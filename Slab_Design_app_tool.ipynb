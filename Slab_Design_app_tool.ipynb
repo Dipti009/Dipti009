{
  "nbformat": 4,
  "nbformat_minor": 0,
  "metadata": {
    "colab": {
      "provenance": [],
      "gpuType": "T4",
      "authorship_tag": "ABX9TyMtXMNCBbw85V7IiS4afglG",
      "include_colab_link": true
    },
    "kernelspec": {
      "name": "python3",
      "display_name": "Python 3"
    },
    "language_info": {
      "name": "python"
    },
    "accelerator": "GPU"
  },
  "cells": [
    {
      "cell_type": "markdown",
      "metadata": {
        "id": "view-in-github",
        "colab_type": "text"
      },
      "source": [
        "<a href=\"https://colab.research.google.com/github/Dipti009/Dipti009/blob/main/Slab_Design_app_tool.ipynb\" target=\"_parent\"><img src=\"https://colab.research.google.com/assets/colab-badge.svg\" alt=\"Open In Colab\"/></a>"
      ]
    },
    {
      "cell_type": "code",
      "source": [
        "# Install Gradio in Colab if not already installed\n",
        "!pip install gradio --quiet\n",
        "\n",
        "import gradio as gr\n",
        "\n",
        "# Function to calculate slab design\n",
        "def calculate_slab(span_length, load, concrete_grade, steel_grade):\n",
        "    # Concrete strength values\n",
        "    concrete_strength = {\n",
        "        \"M20\": 20,  # N/mm²\n",
        "        \"M25\": 25,\n",
        "        \"M30\": 30\n",
        "    }\n",
        "\n",
        "    # Steel strength values (currently unused in calculation but included for flexibility)\n",
        "    steel_strength = {\n",
        "        \"Fe415\": 415,  # N/mm²\n",
        "        \"Fe500\": 500,\n",
        "        \"Fe550\": 550\n",
        "    }\n",
        "\n",
        "    try:\n",
        "        # Effective depth calculation\n",
        "        effective_depth = span_length * 1000 / 20  # Approximation based on span length\n",
        "        breadth = 1000  # Assumed breadth in mm\n",
        "\n",
        "        # Maximum bending moment calculation\n",
        "        max_bending_moment = (load * (span_length ** 2)) / 8  # kNm\n",
        "\n",
        "        # Allowable bending stress\n",
        "        allowable_bending_stress = 0.6 * concrete_strength[concrete_grade]  # N/mm²\n",
        "\n",
        "        # Required steel reinforcement\n",
        "        required_ast = (max_bending_moment * 1e6) / (allowable_bending_stress * effective_depth)  # mm²\n",
        "\n",
        "        # Result formatting\n",
        "        result = f\"\"\"\n",
        "        **Slab Design Calculation Results:**\n",
        "        - **Span Length:** {span_length} m\n",
        "        - **Load:** {load} kN/m²\n",
        "        - **Concrete Grade:** {concrete_grade}\n",
        "        - **Steel Grade:** {steel_grade}\n",
        "        - **Effective Depth:** {effective_depth:.2f} mm\n",
        "        - **Maximum Bending Moment:** {max_bending_moment:.2f} kNm\n",
        "        - **Required Steel Reinforcement:** {required_ast:.2f} mm²\n",
        "        \"\"\"\n",
        "        return result\n",
        "    except Exception as e:\n",
        "        return f\"Error in calculation: {str(e)}\"\n",
        "\n",
        "# Gradio Interface\n",
        "with gr.Blocks() as slab_calculator:\n",
        "    gr.Markdown(\"## 🏗️ Slab Design Calculator\")\n",
        "    gr.Markdown(\"Input the slab parameters to calculate the design requirements.\")\n",
        "\n",
        "    with gr.Row():\n",
        "        span_length = gr.Number(label=\"Span Length (m)\", value=5.0, precision=2)\n",
        "        load = gr.Number(label=\"Uniform Load (kN/m²)\", value=10.0, precision=2)\n",
        "\n",
        "    with gr.Row():\n",
        "        concrete_grade = gr.Dropdown(\n",
        "            label=\"Concrete Grade\",\n",
        "            choices=[\"M20\", \"M25\", \"M30\"],\n",
        "            value=\"M20\"\n",
        "        )\n",
        "        steel_grade = gr.Dropdown(\n",
        "            label=\"Steel Grade\",\n",
        "            choices=[\"Fe415\", \"Fe500\", \"Fe550\"],\n",
        "            value=\"Fe415\"\n",
        "        )\n",
        "\n",
        "    calculate_button = gr.Button(\"Calculate\")\n",
        "    result_output = gr.Markdown()\n",
        "\n",
        "    # Link the input and output\n",
        "    calculate_button.click(\n",
        "        fn=calculate_slab,\n",
        "        inputs=[span_length, load, concrete_grade, steel_grade],\n",
        "        outputs=[result_output]\n",
        "    )\n",
        "\n",
        "# Launch the app in Google Colab\n",
        "slab_calculator.launch()"
      ],
      "metadata": {
        "id": "RHX-IQkTCaFX"
      },
      "execution_count": null,
      "outputs": []
    }
  ]
}